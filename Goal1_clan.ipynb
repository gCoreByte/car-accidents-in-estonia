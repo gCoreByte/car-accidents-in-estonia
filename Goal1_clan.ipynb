{
 "cells": [
  {
   "cell_type": "markdown",
   "source": [
    "initial data"
   ],
   "metadata": {
    "collapsed": false,
    "pycharm": {
     "name": "#%% md\n"
    }
   }
  },
  {
   "cell_type": "code",
   "execution_count": 14,
   "outputs": [],
   "source": [
    "import datetime\n",
    "import matplotlib.pyplot as plt\n",
    "import numpy as np\n",
    "import pandas as pd\n",
    "from datetime import date, timedelta\n",
    "import statistics as st\n",
    "\n",
    "filename = \"data_preparation/cleaned_data_file.csv\"\n",
    "df = pd.read_csv(filename, sep=\",\")\n",
    "\n",
    "startYear = 2011\n",
    "endYear = 2021\n",
    "\n",
    "dates = [\"01.01\", \"24.02\", \"01.05\", \"23.06\", \"24.06\", \"20.08\", \"24.12\", \"25.12\", \"31.12\"] #Non moving holiday dates\n",
    "#dates = [\"24.06\", \"25.06\"]\n",
    "#dates = [\"23.12\", \"24.12\", \"25.12\"]\n",
    "#dates = [\"31.12\", \"01.01\"]\n",
    "groups = [[\"01.01\", \"02.01\"], [\"23.06\", \"24.06\", \"25.06\"], [\"23.12\", \"24.12\", \"25.12\"]]"
   ],
   "metadata": {
    "collapsed": false,
    "pycharm": {
     "name": "#%%\n"
    }
   }
  },
  {
   "cell_type": "markdown",
   "source": [
    "functions"
   ],
   "metadata": {
    "collapsed": false,
    "pycharm": {
     "name": "#%% md\n"
    }
   }
  },
  {
   "cell_type": "code",
   "execution_count": 15,
   "outputs": [],
   "source": [
    "def addHolidays(holidays, source, holidaydates, start, end):\n",
    "\n",
    "    for d in holidaydates:\n",
    "        for year in range(start, end + 1):\n",
    "            sd = str(d) + \".\" + str(year)\n",
    "            entry = source.loc[source[\"Date\"] == sd]\n",
    "            holidays = pd.concat([holidays, entry])\n",
    "\n",
    "    return holidays\n",
    "\n",
    "\n",
    "def getHolidayName(d):\n",
    "\n",
    "    holidays = {\n",
    "        \"01.01\": \"New Year's Day\",\n",
    "        \"24.02\": \"Independence day\",\n",
    "        \"01.05\": \"Spring Holiday\",\n",
    "        \"23.06\": \"Victory Day\",\n",
    "        \"24.06\": \"Midsummer day\",\n",
    "        \"20.08\": \"Restoration of Independence Day\",\n",
    "        \"24.12\": \"Christmas Eve\",\n",
    "        \"25.12\": \"Christmas\",\n",
    "        \"26.12\": \"Christmas 2\",\n",
    "        \"31.12\": \"New Year's eve\"\n",
    "    }\n",
    "\n",
    "    if d in holidays.keys():\n",
    "        return holidays.get(d)\n",
    "    else:\n",
    "        return \"-\"\n",
    "\n",
    "\n",
    "def movingHolidays(start, end):\n",
    "    movingholidaydates = {\"Good Friday\": [], \"Easter\": [], \"Pentecost\": []}\n",
    "\n",
    "    for y in range(start, end + 1):\n",
    "        #Following code is from https://www.assa.org.au/edm#Calculator\n",
    "        first_dig = y // 100  # first 2 digits of year\n",
    "        remain_19 = y % 19  # remainder of year / 19\n",
    "\n",
    "        # calculate PFM date\n",
    "        temp = (first_dig - 15) // 2 + 202 - 11 * remain_19\n",
    "\n",
    "        if first_dig in [21, 24, 25, 27, 28, 29, 30, 31, 32, 34, 35, 38]:\n",
    "            temp -= 1\n",
    "        elif first_dig in [33, 36, 37, 39, 40]:\n",
    "            temp -= 2\n",
    "        temp %= 30\n",
    "\n",
    "        t_a = temp + 21\n",
    "        if temp == 29:\n",
    "            t_a -= 1\n",
    "        if temp == 28 and remain_19 > 10:\n",
    "            t_a -= 1\n",
    "\n",
    "        # find the next Sunday\n",
    "        t_b = (t_a - 19) % 7\n",
    "\n",
    "        t_c = (40 - first_dig) % 4\n",
    "        if t_c == 3:\n",
    "            t_c += 1\n",
    "        if t_c > 1:\n",
    "            t_c += 1\n",
    "\n",
    "        temp = y % 100\n",
    "        t_d = (temp + temp // 4) % 7\n",
    "\n",
    "        t_e = ((20 - t_b - t_c - t_d) % 7) + 1\n",
    "        d = t_a + t_e\n",
    "\n",
    "        if d > 31:\n",
    "            d -= 31\n",
    "            m = 4\n",
    "        else:\n",
    "            m = 3\n",
    "\n",
    "        easter = date(y, m, d)\n",
    "        goodfriday = easter - timedelta(2)\n",
    "        pentecost = easter + timedelta(49)\n",
    "\n",
    "        movingholidaydates[\"Good Friday\"].append(goodfriday.strftime(\"%d.%m.%Y\"))\n",
    "        movingholidaydates[\"Pentecost\"].append(pentecost.strftime(\"%d.%m.%Y\"))\n",
    "        movingholidaydates[\"Easter\"].append(easter.strftime(\"%d.%m.%Y\"))\n",
    "\n",
    "    return movingholidaydates"
   ],
   "metadata": {
    "collapsed": false,
    "pycharm": {
     "name": "#%%\n"
    }
   }
  },
  {
   "cell_type": "markdown",
   "source": [
    "Adding DM column aka dd.mm and year"
   ],
   "metadata": {
    "collapsed": false,
    "pycharm": {
     "name": "#%% md\n"
    }
   }
  },
  {
   "cell_type": "code",
   "execution_count": 16,
   "outputs": [
    {
     "name": "stderr",
     "output_type": "stream",
     "text": [
      "C:\\Users\\annut\\AppData\\Local\\Temp\\ipykernel_8836\\3689864089.py:7: FutureWarning: Columnar iteration over characters will be deprecated in future releases.\n",
      "  holidaystats_df[\"Day\"], holidaystats_df[\"Month\"], holidaystats_df[\"Year\"] = holidaydf[\"Date\"].str.split(\".\").str\n",
      "C:\\Users\\annut\\AppData\\Local\\Temp\\ipykernel_8836\\3689864089.py:15: FutureWarning: Columnar iteration over characters will be deprecated in future releases.\n",
      "  nonholiday_df[\"Day\"], nonholiday_df[\"Month\"], nonholiday_df[\"Year\"] = nonholiday_df[\"Date\"].str.split(\".\").str\n"
     ]
    }
   ],
   "source": [
    "movingholidays = movingHolidays(startYear, endYear)\n",
    "\n",
    "nonholiday_df= df.copy()\n",
    "holidaydf = addHolidays(pd.DataFrame(), nonholiday_df, dates, startYear, endYear)\n",
    "holidaystats_df = holidaydf.copy()\n",
    "\n",
    "holidaystats_df[\"Day\"], holidaystats_df[\"Month\"], holidaystats_df[\"Year\"] = holidaydf[\"Date\"].str.split(\".\").str\n",
    "\n",
    "holidaystats_df = holidaystats_df.sort_values(by=[\"Year\", \"Month\", \"Day\"])\n",
    "\n",
    "holidaystats_df[\"DM\"] = holidaystats_df[\"Day\"] + \".\" + holidaystats_df[\"Month\"]\n",
    "holidaystats_df = holidaystats_df.drop(\"Day\", axis=1)\n",
    "holidaystats_df = holidaystats_df.drop(\"Month\", axis=1)\n",
    "\n",
    "nonholiday_df[\"Day\"], nonholiday_df[\"Month\"], nonholiday_df[\"Year\"] = nonholiday_df[\"Date\"].str.split(\".\").str\n",
    "\n",
    "nonholiday_df = nonholiday_df.sort_values(by=[\"Year\", \"Month\", \"Day\"])\n",
    "\n",
    "nonholiday_df[\"DM\"] = nonholiday_df[\"Day\"] + \".\" + nonholiday_df[\"Month\"]\n",
    "nonholiday_df = nonholiday_df.drop(\"Day\", axis=1)\n",
    "nonholiday_df = nonholiday_df.drop(\"Month\", axis=1)\n",
    "\n",
    "holidaystats_df = holidaystats_df.sort_values(\"DM\")"
   ],
   "metadata": {
    "collapsed": false,
    "pycharm": {
     "name": "#%%\n"
    }
   }
  },
  {
   "cell_type": "markdown",
   "source": [
    "Number of accidents on holidays"
   ],
   "metadata": {
    "collapsed": false,
    "pycharm": {
     "name": "#%% md\n"
    }
   }
  },
  {
   "cell_type": "code",
   "execution_count": 17,
   "metadata": {
    "collapsed": true,
    "pycharm": {
     "name": "#%%\n"
    }
   },
   "outputs": [],
   "source": [
    "holidayNames = []\n",
    "holiday_dict = {}\n",
    "\n",
    "midsummer_d = [\"-\", \"Midsummer Day\", \"-\"]\n",
    "midsummer = {}\n",
    "christmas_d = [\"-\", \"Christmas Eve\", \"-\"]\n",
    "christmas = {}\n",
    "newyear_d = [\"New Year's Day\", \"-\"]\n",
    "newyear = {}\n",
    "\n",
    "for d in dates:\n",
    "    name = getHolidayName(d)\n",
    "    holidayNames.append(name)\n",
    "\n",
    "for movingHoliday in movingholidays.keys():\n",
    "    holidayNames.append(movingHoliday)\n",
    "\n",
    "for year in range(startYear+1, endYear+1):\n",
    "    holiday_dict[year] = []\n",
    "    midsummer[year] = []\n",
    "    christmas[year] = []\n",
    "    newyear[year] = []\n",
    "\n",
    "    for d in dates:\n",
    "        v = holidaystats_df[holidaystats_df[\"Year\"] == str(year)]\n",
    "        v = v[v[\"DM\"] == d]\n",
    "        holiday_dict[year].append(v.value_counts().sum())\n",
    "\n",
    "\n",
    "    for i in range(len(groups)):\n",
    "        group = groups[i]\n",
    "        for date in group:\n",
    "            v = nonholiday_df[nonholiday_df[\"Year\"] == str(year)]\n",
    "            v = v[v[\"DM\"] == date]\n",
    "            if i == 0:\n",
    "                newyear[year].append(v.value_counts().sum())\n",
    "            if i == 1:\n",
    "                midsummer[year].append(v.value_counts().sum())\n",
    "            if i == 2:\n",
    "                christmas[year].append(v.value_counts().sum())\n",
    "\n",
    "\n",
    "for movingHoliday in movingholidays.keys():\n",
    "    year = startYear + 1\n",
    "    movingdates = movingholidays[movingHoliday][1:]\n",
    "\n",
    "    for date in movingdates:\n",
    "        v = nonholiday_df[nonholiday_df[\"Date\"] == date]\n",
    "        count = v.value_counts().sum()\n",
    "        holiday_dict[year].append(count)\n",
    "        year += 1\n",
    "\n",
    "\n",
    "accidentCount_df = pd.DataFrame.from_dict(holiday_dict, orient=\"index\", columns=holidayNames)\n",
    "christmasCount = pd.DataFrame.from_dict(christmas, orient=\"index\", columns=christmas_d)\n",
    "midsummerCount = pd.DataFrame.from_dict(midsummer, orient=\"index\", columns=midsummer_d)\n",
    "newyearCount = pd.DataFrame.from_dict(newyear, orient=\"index\", columns=newyear_d)"
   ]
  },
  {
   "cell_type": "markdown",
   "source": [
    "Dataframe of the number of accidents on each day for each year"
   ],
   "metadata": {
    "collapsed": false,
    "pycharm": {
     "name": "#%% md\n"
    }
   }
  },
  {
   "cell_type": "code",
   "execution_count": 18,
   "outputs": [
    {
     "data": {
      "text/plain": "      01.01  02.01  03.01  04.01  05.01  06.01  07.01  08.01  09.01  10.01  \\\n2012      3      3      1      4      4      1      2      6      3      4   \n2013      2      2      4      2      0      2      3      2      5      6   \n2014      5      2      1      4      0      1      3      4      3      5   \n2015      3      3      4      3      4      4      1      6      4      0   \n2016      2      0      3      2      4      3      4      1      1      1   \n2017      0      2      5      3      7      1      1      5      2      2   \n2018      3      2      1      1      6      2      5      1      1      5   \n2019      2      4      1      2      6      0      2      4      3      0   \n2020      3      3      6      2      0      2      2      1      7      4   \n2021      3      4      3      0      1      1      1      2      0      1   \n\n      ...  22.12  23.12  24.12  25.12  26.12  27.12  28.12  29.12  30.12  \\\n2012  ...      3      2      1      1      1      0      3      6      1   \n2013  ...      3      7      1      4      3      4      2      0      3   \n2014  ...      7      4      3      1      3      5      0      2      1   \n2015  ...      4      4      2      2      1      1      1      0      2   \n2016  ...      2      7      2      3      2      3      5      0      4   \n2017  ...      5      7      1      2      1      3      6      4      1   \n2018  ...      2      5      4      4      2      1      3      1      1   \n2019  ...      1      1      2      1      1      4      3      2      0   \n2020  ...      6      1      0      7      4      0      6      0      4   \n2021  ...      0      5      4      3      4      1      1      6      6   \n\n      31.12  \n2012      3  \n2013      0  \n2014      1  \n2015      1  \n2016      5  \n2017      0  \n2018      3  \n2019      2  \n2020      2  \n2021      3  \n\n[10 rows x 366 columns]",
      "text/html": "<div>\n<style scoped>\n    .dataframe tbody tr th:only-of-type {\n        vertical-align: middle;\n    }\n\n    .dataframe tbody tr th {\n        vertical-align: top;\n    }\n\n    .dataframe thead th {\n        text-align: right;\n    }\n</style>\n<table border=\"1\" class=\"dataframe\">\n  <thead>\n    <tr style=\"text-align: right;\">\n      <th></th>\n      <th>01.01</th>\n      <th>02.01</th>\n      <th>03.01</th>\n      <th>04.01</th>\n      <th>05.01</th>\n      <th>06.01</th>\n      <th>07.01</th>\n      <th>08.01</th>\n      <th>09.01</th>\n      <th>10.01</th>\n      <th>...</th>\n      <th>22.12</th>\n      <th>23.12</th>\n      <th>24.12</th>\n      <th>25.12</th>\n      <th>26.12</th>\n      <th>27.12</th>\n      <th>28.12</th>\n      <th>29.12</th>\n      <th>30.12</th>\n      <th>31.12</th>\n    </tr>\n  </thead>\n  <tbody>\n    <tr>\n      <th>2012</th>\n      <td>3</td>\n      <td>3</td>\n      <td>1</td>\n      <td>4</td>\n      <td>4</td>\n      <td>1</td>\n      <td>2</td>\n      <td>6</td>\n      <td>3</td>\n      <td>4</td>\n      <td>...</td>\n      <td>3</td>\n      <td>2</td>\n      <td>1</td>\n      <td>1</td>\n      <td>1</td>\n      <td>0</td>\n      <td>3</td>\n      <td>6</td>\n      <td>1</td>\n      <td>3</td>\n    </tr>\n    <tr>\n      <th>2013</th>\n      <td>2</td>\n      <td>2</td>\n      <td>4</td>\n      <td>2</td>\n      <td>0</td>\n      <td>2</td>\n      <td>3</td>\n      <td>2</td>\n      <td>5</td>\n      <td>6</td>\n      <td>...</td>\n      <td>3</td>\n      <td>7</td>\n      <td>1</td>\n      <td>4</td>\n      <td>3</td>\n      <td>4</td>\n      <td>2</td>\n      <td>0</td>\n      <td>3</td>\n      <td>0</td>\n    </tr>\n    <tr>\n      <th>2014</th>\n      <td>5</td>\n      <td>2</td>\n      <td>1</td>\n      <td>4</td>\n      <td>0</td>\n      <td>1</td>\n      <td>3</td>\n      <td>4</td>\n      <td>3</td>\n      <td>5</td>\n      <td>...</td>\n      <td>7</td>\n      <td>4</td>\n      <td>3</td>\n      <td>1</td>\n      <td>3</td>\n      <td>5</td>\n      <td>0</td>\n      <td>2</td>\n      <td>1</td>\n      <td>1</td>\n    </tr>\n    <tr>\n      <th>2015</th>\n      <td>3</td>\n      <td>3</td>\n      <td>4</td>\n      <td>3</td>\n      <td>4</td>\n      <td>4</td>\n      <td>1</td>\n      <td>6</td>\n      <td>4</td>\n      <td>0</td>\n      <td>...</td>\n      <td>4</td>\n      <td>4</td>\n      <td>2</td>\n      <td>2</td>\n      <td>1</td>\n      <td>1</td>\n      <td>1</td>\n      <td>0</td>\n      <td>2</td>\n      <td>1</td>\n    </tr>\n    <tr>\n      <th>2016</th>\n      <td>2</td>\n      <td>0</td>\n      <td>3</td>\n      <td>2</td>\n      <td>4</td>\n      <td>3</td>\n      <td>4</td>\n      <td>1</td>\n      <td>1</td>\n      <td>1</td>\n      <td>...</td>\n      <td>2</td>\n      <td>7</td>\n      <td>2</td>\n      <td>3</td>\n      <td>2</td>\n      <td>3</td>\n      <td>5</td>\n      <td>0</td>\n      <td>4</td>\n      <td>5</td>\n    </tr>\n    <tr>\n      <th>2017</th>\n      <td>0</td>\n      <td>2</td>\n      <td>5</td>\n      <td>3</td>\n      <td>7</td>\n      <td>1</td>\n      <td>1</td>\n      <td>5</td>\n      <td>2</td>\n      <td>2</td>\n      <td>...</td>\n      <td>5</td>\n      <td>7</td>\n      <td>1</td>\n      <td>2</td>\n      <td>1</td>\n      <td>3</td>\n      <td>6</td>\n      <td>4</td>\n      <td>1</td>\n      <td>0</td>\n    </tr>\n    <tr>\n      <th>2018</th>\n      <td>3</td>\n      <td>2</td>\n      <td>1</td>\n      <td>1</td>\n      <td>6</td>\n      <td>2</td>\n      <td>5</td>\n      <td>1</td>\n      <td>1</td>\n      <td>5</td>\n      <td>...</td>\n      <td>2</td>\n      <td>5</td>\n      <td>4</td>\n      <td>4</td>\n      <td>2</td>\n      <td>1</td>\n      <td>3</td>\n      <td>1</td>\n      <td>1</td>\n      <td>3</td>\n    </tr>\n    <tr>\n      <th>2019</th>\n      <td>2</td>\n      <td>4</td>\n      <td>1</td>\n      <td>2</td>\n      <td>6</td>\n      <td>0</td>\n      <td>2</td>\n      <td>4</td>\n      <td>3</td>\n      <td>0</td>\n      <td>...</td>\n      <td>1</td>\n      <td>1</td>\n      <td>2</td>\n      <td>1</td>\n      <td>1</td>\n      <td>4</td>\n      <td>3</td>\n      <td>2</td>\n      <td>0</td>\n      <td>2</td>\n    </tr>\n    <tr>\n      <th>2020</th>\n      <td>3</td>\n      <td>3</td>\n      <td>6</td>\n      <td>2</td>\n      <td>0</td>\n      <td>2</td>\n      <td>2</td>\n      <td>1</td>\n      <td>7</td>\n      <td>4</td>\n      <td>...</td>\n      <td>6</td>\n      <td>1</td>\n      <td>0</td>\n      <td>7</td>\n      <td>4</td>\n      <td>0</td>\n      <td>6</td>\n      <td>0</td>\n      <td>4</td>\n      <td>2</td>\n    </tr>\n    <tr>\n      <th>2021</th>\n      <td>3</td>\n      <td>4</td>\n      <td>3</td>\n      <td>0</td>\n      <td>1</td>\n      <td>1</td>\n      <td>1</td>\n      <td>2</td>\n      <td>0</td>\n      <td>1</td>\n      <td>...</td>\n      <td>0</td>\n      <td>5</td>\n      <td>4</td>\n      <td>3</td>\n      <td>4</td>\n      <td>1</td>\n      <td>1</td>\n      <td>6</td>\n      <td>6</td>\n      <td>3</td>\n    </tr>\n  </tbody>\n</table>\n<p>10 rows × 366 columns</p>\n</div>"
     },
     "execution_count": 18,
     "metadata": {},
     "output_type": "execute_result"
    }
   ],
   "source": [
    "dates_dict = {}\n",
    "datelist = []\n",
    "\n",
    "y = 2020\n",
    "for month in range(1, 13):\n",
    "    for day in range(1, 32):\n",
    "        try:\n",
    "            d = datetime.date(y, month, day)\n",
    "            strD = d.strftime(\"%d.%m\")\n",
    "            datelist.append(strD)\n",
    "        except ValueError:\n",
    "            pass\n",
    "\n",
    "for year in range(startYear+1, endYear+1):\n",
    "    dates_dict[year] = []\n",
    "    yearDF = nonholiday_df[nonholiday_df[\"Year\"] == str(year)]\n",
    "    for month in range(1, 13):\n",
    "        for day in range(1, 32):\n",
    "            try:\n",
    "                d = datetime.date(year, month, day)\n",
    "                strD = d.strftime(\"%d.%m\")\n",
    "                v = yearDF[yearDF[\"DM\"] == strD]\n",
    "                dates_dict[year].append(v.value_counts().sum())\n",
    "            except ValueError:\n",
    "                if day == 29:\n",
    "                    dates_dict[year].append(np.nan)\n",
    "                pass\n",
    "\n",
    "allAccidentCount_df = pd.DataFrame.from_dict(dates_dict, orient=\"index\", columns=datelist)\n",
    "\n",
    "allAccidentCount_df"
   ],
   "metadata": {
    "collapsed": false,
    "pycharm": {
     "name": "#%%\n"
    }
   }
  },
  {
   "cell_type": "markdown",
   "source": [
    "Dataframes necessary for the following plots"
   ],
   "metadata": {
    "collapsed": false,
    "pycharm": {
     "name": "#%% md\n"
    }
   }
  },
  {
   "cell_type": "code",
   "execution_count": 19,
   "outputs": [],
   "source": [
    "years = list(allAccidentCount_df.index.values)\n",
    "medians = []\n",
    "holiday_m = []\n",
    "christmas_m = []\n",
    "midsummer_m = []\n",
    "newyear_m = []\n",
    "\n",
    "means = []\n",
    "holiday_means = []\n",
    "christmas_means = []\n",
    "midsummer_means = []\n",
    "newyear_means = []\n",
    "\n",
    "for year in years:\n",
    "    accidents = allAccidentCount_df.loc[[year]].values.flatten().tolist()\n",
    "    cleaned = [x for x in accidents if str(x) != 'nan']\n",
    "    median = st.median(cleaned)\n",
    "    mean = st.mean(cleaned)\n",
    "    means.append(mean)\n",
    "    medians.append(median)\n",
    "\n",
    "    hAccidents = accidentCount_df.loc[[year]].values.flatten().tolist()\n",
    "    hcleaned = [x for x in hAccidents if str(x) != 'nan']\n",
    "    hmedian = st.median(hcleaned)\n",
    "    hmean = st.mean(hcleaned)\n",
    "    holiday_means.append(hmean)\n",
    "    holiday_m.append(hmedian)\n",
    "\n",
    "    christmasAcc = christmasCount.loc[[year]].values.flatten().tolist()\n",
    "    cmedian = st.median(christmasAcc)\n",
    "    cmean = st.mean(christmasAcc)\n",
    "    christmas_means.append(cmean)\n",
    "    christmas_m.append(cmedian)\n",
    "\n",
    "    midsummerAcc = midsummerCount.loc[[year]].values.flatten().tolist()\n",
    "    median = st.median(midsummerAcc)\n",
    "    mean = st.mean(midsummerAcc)\n",
    "    midsummer_means.append(cmean)\n",
    "    midsummer_m.append(cmedian)\n",
    "\n",
    "    newyearAcc = newyearCount.loc[[year]].values.flatten().tolist()\n",
    "    median = st.median(newyearAcc)\n",
    "    mean = st.mean(newyearAcc)\n",
    "    newyear_means.append(mean)\n",
    "    newyear_m.append(median)"
   ],
   "metadata": {
    "collapsed": false,
    "pycharm": {
     "name": "#%%\n"
    }
   }
  },
  {
   "cell_type": "markdown",
   "source": [
    "Plot the medians of all the holidays (moving and not moving) and the whole year"
   ],
   "metadata": {
    "collapsed": false,
    "pycharm": {
     "name": "#%% md\n"
    }
   }
  },
  {
   "cell_type": "code",
   "execution_count": 20,
   "outputs": [
    {
     "data": {
      "text/plain": "<Figure size 2000x1000 with 0 Axes>"
     },
     "metadata": {},
     "output_type": "display_data"
    },
    {
     "data": {
      "text/plain": "<Figure size 640x480 with 1 Axes>",
      "image/png": "[encoded data removed]"
     },
     "metadata": {},
     "output_type": "display_data"
    }
   ],
   "source": [
    "plt.figure(figsize=(20, 10))\n",
    "\n",
    "x = np.arange(len(years))\n",
    "width = 0.3\n",
    "\n",
    "fig, ax = plt.subplots()\n",
    "l1 = ax.bar(x- width/2, holiday_m, width, label=\"Holiday\")\n",
    "l2 = ax.bar(x+ width/2, medians, width, label=\"Overall\")\n",
    "\n",
    "ax.set_ylabel(\"Accidents\")\n",
    "ax.set_title(\"Median\")\n",
    "ax.set_xticks(x, years)\n",
    "ax.legend()\n",
    "\n",
    "plt.savefig(\"medianComparison\")\n",
    "\n",
    "plt.show()"
   ],
   "metadata": {
    "collapsed": false,
    "pycharm": {
     "name": "#%%\n"
    }
   }
  },
  {
   "cell_type": "markdown",
   "source": [
    "Plot the means of all the holidays (moving and not moving) and the whole year"
   ],
   "metadata": {
    "collapsed": false,
    "pycharm": {
     "name": "#%% md\n"
    }
   }
  },
  {
   "cell_type": "code",
   "execution_count": 21,
   "outputs": [
    {
     "data": {
      "text/plain": "<Figure size 640x480 with 1 Axes>",
      "image/png": "[encoded data removed]"
     },
     "metadata": {},
     "output_type": "display_data"
    }
   ],
   "source": [
    "x = np.arange(len(years))\n",
    "width = 0.3\n",
    "\n",
    "fig, ax = plt.subplots()\n",
    "l2 = ax.bar(x- width/2, holiday_means, width, label=\"Holiday\")\n",
    "l1 = ax.bar(x+ width/2, means, width, label=\"Whole year\")\n",
    "\n",
    "ax.set_ylabel(\"Accidents\")\n",
    "ax.set_title(\"Average number of accidents on holidays\")\n",
    "ax.set_xticks(x, years)\n",
    "ax.legend()\n",
    "\n",
    "plt.savefig(\"meanComparison\")\n",
    "\n",
    "plt.show()"
   ],
   "metadata": {
    "collapsed": false,
    "pycharm": {
     "name": "#%%\n"
    }
   }
  },
  {
   "cell_type": "markdown",
   "source": [
    "Plot the medians of Christmas, Midsummerday, New Year's Day and the whole year"
   ],
   "metadata": {
    "collapsed": false,
    "pycharm": {
     "name": "#%% md\n"
    }
   }
  },
  {
   "cell_type": "code",
   "execution_count": 22,
   "outputs": [
    {
     "data": {
      "text/plain": "<Figure size 2000x1000 with 0 Axes>"
     },
     "metadata": {},
     "output_type": "display_data"
    },
    {
     "data": {
      "text/plain": "<Figure size 640x480 with 1 Axes>",
      "image/png": "[encoded data removed]"
     },
     "metadata": {},
     "output_type": "display_data"
    }
   ],
   "source": [
    "plt.figure(figsize=(20, 10))\n",
    "\n",
    "x = np.arange(len(years))\n",
    "\n",
    "width = 0.15\n",
    "\n",
    "fig, ax = plt.subplots()\n",
    "l1 = ax.bar(x- width- width/2, medians, width, label=\"Whole year\")\n",
    "l2 = ax.bar(x- width/2, christmas_m, width, label=\"Christmas\")\n",
    "l3 = ax.bar(x+ width/2, newyear_m, width, label=\"New Year's Day\")\n",
    "l4 = ax.bar(x+ width + width/2, midsummer_m, width, label=\"Midsummer Day\")\n",
    "\n",
    "ax.set_ylabel(\"Accidents\")\n",
    "ax.set_title(\"Median\")\n",
    "ax.set_xticks(x, years)\n",
    "\n",
    "plt.savefig(\"medianHolidays\")\n",
    "\n",
    "plt.show()"
   ],
   "metadata": {
    "collapsed": false,
    "pycharm": {
     "name": "#%%\n"
    }
   }
  },
  {
   "cell_type": "markdown",
   "source": [
    "Plot the means of Christmas, Midsummerday, New Year's Day and the whole year"
   ],
   "metadata": {
    "collapsed": false,
    "pycharm": {
     "name": "#%% md\n"
    }
   }
  },
  {
   "cell_type": "code",
   "execution_count": 23,
   "outputs": [
    {
     "data": {
      "text/plain": "<Figure size 2000x1000 with 0 Axes>"
     },
     "metadata": {},
     "output_type": "display_data"
    },
    {
     "data": {
      "text/plain": "<Figure size 640x480 with 1 Axes>",
      "image/png": "[encoded data removed]"
     },
     "metadata": {},
     "output_type": "display_data"
    }
   ],
   "source": [
    "plt.figure(figsize=(20, 10))\n",
    "\n",
    "x = np.arange(len(years))\n",
    "\n",
    "width = 0.15\n",
    "\n",
    "fig, ax = plt.subplots()\n",
    "l1 = ax.bar(x- width- width/2, means, width, label=\"Whole year\")\n",
    "l2 = ax.bar(x- width/2, christmas_means, width, label=\"Christmas\")\n",
    "l3 = ax.bar(x+ width/2, newyear_means, width, label=\"New Year's Day\")\n",
    "l4 = ax.bar(x+ width + width/2, midsummer_means, width, label=\"Midsummer Day\")\n",
    "\n",
    "ax.set_ylabel(\"Average number of accidents\")\n",
    "ax.set_title(\"Accidents on holiday periods\")\n",
    "ax.set_xticks(x, years)\n",
    "\n",
    "plt.savefig(\"meanHolidays\")\n",
    "\n",
    "plt.show()"
   ],
   "metadata": {
    "collapsed": false,
    "pycharm": {
     "name": "#%%\n"
    }
   }
  },
  {
   "cell_type": "markdown",
   "source": [
    "Find the dates (day and month) with the highest number of accidents between all years"
   ],
   "metadata": {
    "collapsed": false,
    "pycharm": {
     "name": "#%% md\n"
    }
   }
  },
  {
   "cell_type": "code",
   "execution_count": 29,
   "outputs": [
    {
     "data": {
      "text/plain": "<AxesSubplot:xlabel='DM'>"
     },
     "execution_count": 29,
     "metadata": {},
     "output_type": "execute_result"
    },
    {
     "data": {
      "text/plain": "<Figure size 640x480 with 1 Axes>",
      "image/png": "[encoded data removed]"
     },
     "metadata": {},
     "output_type": "display_data"
    }
   ],
   "source": [
    "nonholiday_df = nonholiday_df[nonholiday_df[\"Year\"] != \"2011\"]\n",
    "\n",
    "high = nonholiday_df.value_counts(\"DM\")[:3] #top 3 days with most accidents (all years sum)\n",
    "other = nonholiday_df.value_counts(\"DM\")[3:]\n",
    "\n",
    "high.plot(kind=\"bar\")"
   ],
   "metadata": {
    "collapsed": false,
    "pycharm": {
     "name": "#%%\n"
    }
   }
  }
 ],
 "metadata": {
  "kernelspec": {
   "display_name": "Python 3",
   "language": "python",
   "name": "python3"
  },
  "language_info": {
   "codemirror_mode": {
    "name": "ipython",
    "version": 2
   },
   "file_extension": ".py",
   "mimetype": "text/x-python",
   "name": "python",
   "nbconvert_exporter": "python",
   "pygments_lexer": "ipython2",
   "version": "2.7.6"
  }
 },
 "nbformat": 4,
 "nbformat_minor": 0
}