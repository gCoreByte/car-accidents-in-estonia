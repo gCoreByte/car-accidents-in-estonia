{
 "cells": [
  {
   "cell_type": "markdown",
   "metadata": {},
   "source": [
    "Imports and global variables"
   ]
  },
  {
   "cell_type": "code",
   "execution_count": 1,
   "metadata": {},
   "outputs": [],
   "source": [
    "import pandas as pd\n",
    "\n",
    "pd.set_option(\"display.max_rows\", 1000)\n",
    "\n",
    "filename = \"Liiklusõnnetused_2011_2021.csv\"\n",
    "\n",
    "columns_to_remove = \"kolumnid.txt\"\n",
    "\n",
    "data = pd.DataFrame(pd.read_csv(filename, sep=\";\"))\n"
   ]
  },
  {
   "cell_type": "markdown",
   "metadata": {},
   "source": [
    "Removing columns we do not need:"
   ]
  },
  {
   "cell_type": "code",
   "execution_count": 2,
   "metadata": {},
   "outputs": [
    {
     "name": "stdout",
     "output_type": "stream",
     "text": [
      "[0] Column Juhtumi nr was not dropped.\n",
      "[1] Column Toimumisaeg was not dropped.\n",
      "[2] Column Isikuid was not dropped.\n",
      "[3] Column Hukkunuid was not dropped.\n",
      "[4] Column Vigastatuid was not dropped.\n",
      "[5] Column Sõidukeid was not dropped.\n",
      "[6] Column Aadress (PPA) was not dropped.\n",
      "[7] Column Maja nr (PPA) was dropped.\n",
      "[8] Column Tänav (PPA) was dropped.\n",
      "[9] Column Ristuv tänav (PPA) was dropped.\n",
      "[10] Column Maakond (PPA) was dropped.\n",
      "[11] Column Omavalitsus (PPA) was dropped.\n",
      "[12] Column Asustus (PPA) was dropped.\n",
      "[13] Column Asula was dropped.\n",
      "[14] Column Liiklusõnnetuse liik [1] was dropped.\n",
      "[15] Column Liiklusõnnetuse liik [3] was not dropped.\n",
      "[16] Column Kergliikurijuhi osalusel was not dropped.\n",
      "[17] Column Jalakäija osalusel was not dropped.\n",
      "[18] Column Kaassõitja osalusel was not dropped.\n",
      "[19] Column Maastikusõiduki juhi osalusel was not dropped.\n",
      "[20] Column Eaka (65+) mootorsõidukijuhi osalusel was not dropped.\n",
      "[21] Column Bussijuhi osalusel was not dropped.\n",
      "[22] Column Veoautojuhi osalusel was not dropped.\n",
      "[23] Column Ühissõidukijuhi osalusel was not dropped.\n",
      "[24] Column Sõiduautojuhi osalusel was not dropped.\n",
      "[25] Column Mootorratturi osalusel was not dropped.\n",
      "[26] Column Mopeedijuhi osalusel was not dropped.\n",
      "[27] Column Jalgratturi osalusel was not dropped.\n",
      "[28] Column Alaealise osalusel was not dropped.\n",
      "[29] Column Turvavarustust mitte kasutanud isiku osalusel was not dropped.\n",
      "[30] Column Esmase juhiloa omaniku osalusel was not dropped.\n",
      "[31] Column Mootorsõidukijuhi osalusel was not dropped.\n",
      "[32] Column Tüüpskeemi nr was dropped.\n",
      "[33] Column Tüüpskeem [2] was dropped.\n",
      "[34] Column Tee tüüp [1] was dropped.\n",
      "[35] Column Tee tüüp [2] was not dropped.\n",
      "[36] Column Tee element [1] was not dropped.\n",
      "[37] Column Tee element [2] was dropped.\n",
      "[38] Column Tee objekt [2] was dropped.\n",
      "[39] Column Kurvilisus was not dropped.\n",
      "[40] Column Tee tasasus was not dropped.\n",
      "[41] Column Tee seisund was not dropped.\n",
      "[42] Column Teekate was dropped.\n",
      "[43] Column Teekatte seisund [2] was not dropped.\n",
      "[44] Column Sõiduradade arv was dropped.\n",
      "[45] Column Lubatud sõidukiirus (PPA) was not dropped.\n",
      "[46] Column Tee nr (PPA) was dropped.\n",
      "[47] Column Tee km (PPA) was dropped.\n",
      "[48] Column Ilmastik [1] was not dropped.\n",
      "[49] Column Valgustus [1] was dropped.\n",
      "[50] Column Valgustus [2] was not dropped.\n",
      "[51] Column GPS X was not dropped.\n",
      "[52] Column GPS Y was not dropped.\n"
     ]
    }
   ],
   "source": [
    "with open(columns_to_remove, encoding = \"UTF-8\") as file:\n",
    "    for line in file:\n",
    "        var = line.strip().split(\"|\")\n",
    "\n",
    "        if var[2].strip() == \"drop\":\n",
    "            data = data.drop(columns=f\"{var[1].strip()}\")\n",
    "            print(f\"[{var[0].strip()}] Column {var[1].strip()} was dropped.\")\n",
    "        else:\n",
    "            print(f\"[{var[0].strip()}] Column {var[1].strip()} was not dropped.\")"
   ]
  },
  {
   "cell_type": "markdown",
   "metadata": {},
   "source": [
    "Columns now:"
   ]
  },
  {
   "cell_type": "code",
   "execution_count": 3,
   "metadata": {},
   "outputs": [
    {
     "data": {
      "text/plain": [
       "Index(['Juhtumi nr', 'Toimumisaeg', 'Isikuid', 'Hukkunuid', 'Vigastatuid',\n",
       "       'Sõidukeid', 'Aadress (PPA)', 'Liiklusõnnetuse liik [3]',\n",
       "       'Kergliikurijuhi osalusel', 'Jalakäija osalusel', 'Kaassõitja osalusel',\n",
       "       'Maastikusõiduki juhi osalusel',\n",
       "       'Eaka (65+) mootorsõidukijuhi osalusel', 'Bussijuhi osalusel',\n",
       "       'Veoautojuhi osalusel', 'Ühissõidukijuhi osalusel',\n",
       "       'Sõiduautojuhi osalusel', 'Mootorratturi osalusel',\n",
       "       'Mopeedijuhi osalusel', 'Jalgratturi osalusel', 'Alaealise osalusel',\n",
       "       'Turvavarustust mitte kasutanud isiku osalusel',\n",
       "       'Esmase juhiloa omaniku osalusel', 'Mootorsõidukijuhi osalusel',\n",
       "       'Tee tüüp [2]', 'Tee element [1]', 'Kurvilisus', 'Tee tasasus',\n",
       "       'Tee seisund', 'Teekatte seisund [2]', 'Lubatud sõidukiirus (PPA)',\n",
       "       'Ilmastik [1]', 'Valgustus [2]', 'GPS X', 'GPS Y'],\n",
       "      dtype='object')"
      ]
     },
     "execution_count": 3,
     "metadata": {},
     "output_type": "execute_result"
    }
   ],
   "source": [
    "data.columns"
   ]
  },
  {
   "cell_type": "markdown",
   "metadata": {},
   "source": [
    "Removing null values:"
   ]
  },
  {
   "cell_type": "code",
   "execution_count": 4,
   "metadata": {},
   "outputs": [],
   "source": [
    "#TODO\n",
    "#for column in data.columns:\n",
    "#    data[column].dropna(inplace = True)"
   ]
  }
 ],
 "metadata": {
  "kernelspec": {
   "display_name": "Python 3.9.12 ('base')",
   "language": "python",
   "name": "python3"
  },
  "language_info": {
   "codemirror_mode": {
    "name": "ipython",
    "version": 3
   },
   "file_extension": ".py",
   "mimetype": "text/x-python",
   "name": "python",
   "nbconvert_exporter": "python",
   "pygments_lexer": "ipython3",
   "version": "3.9.12"
  },
  "orig_nbformat": 4,
  "vscode": {
   "interpreter": {
    "hash": "432912b4a3d61698e775b0afd7eed56c874724ab6c455817cadfb90cd0d31947"
   }
  }
 },
 "nbformat": 4,
 "nbformat_minor": 2
}
