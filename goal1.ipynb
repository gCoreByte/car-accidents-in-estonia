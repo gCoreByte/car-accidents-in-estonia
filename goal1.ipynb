{
 "cells": [
  {
   "cell_type": "markdown",
   "source": [
    "Separate accidents that have happened on holidays from the dataset and save them into a new dataset with a marking to differentiate different holidays."
   ],
   "metadata": {
    "collapsed": false,
    "pycharm": {
     "name": "#%% md\n"
    }
   }
  },
  {
   "cell_type": "code",
   "execution_count": null,
   "metadata": {
    "collapsed": true,
    "pycharm": {
     "name": "#%%\n"
    }
   },
   "outputs": [],
   "source": []
  },
  {
   "cell_type": "code",
   "execution_count": 24,
   "outputs": [
    {
     "name": "stdout",
     "output_type": "stream",
     "text": [
      "{'Good Friday': ['22.04.2011', '06.04.2012', '29.03.2013', '18.04.2014', '03.04.2015', '25.03.2016', '14.04.2017', '30.03.2018', '19.04.2019', '10.04.2020', '02.04.2021'], 'Easter': ['24.04.2011', '08.04.2012', '31.03.2013', '20.04.2014', '05.04.2015', '27.03.2016', '16.04.2017', '01.04.2018', '21.04.2019', '12.04.2020', '04.04.2021'], 'Pentecost': ['12.06.2011', '27.05.2012', '19.05.2013', '08.06.2014', '24.05.2015', '15.05.2016', '04.06.2017', '20.05.2018', '09.06.2019', '31.05.2020', '23.05.2021']}\n"
     ]
    }
   ],
   "source": [
    "import pandas as pd\n",
    "from datetime import date, timedelta\n",
    "\n",
    "def movingHolidays():\n",
    "    movingholidays = {\"Good Friday\": [], \"Easter\": [], \"Pentecost\": []}\n",
    "\n",
    "    for y in range(2011, 2022):\n",
    "        #Following code is from https://www.assa.org.au/edm#Calculator\n",
    "        first_dig = y // 100  # first 2 digits of year\n",
    "        remain_19 = y % 19  # remainder of year / 19\n",
    "\n",
    "        # calculate PFM date\n",
    "        temp = (first_dig - 15) // 2 + 202 - 11 * remain_19\n",
    "\n",
    "        if first_dig in [21, 24, 25, 27, 28, 29, 30, 31, 32, 34, 35, 38]:\n",
    "            temp -= 1\n",
    "        elif first_dig in [33, 36, 37, 39, 40]:\n",
    "            temp -= 2\n",
    "        temp %= 30\n",
    "\n",
    "        t_a = temp + 21\n",
    "        if temp == 29:\n",
    "            t_a -= 1\n",
    "        if temp == 28 and remain_19 > 10:\n",
    "            t_a -= 1\n",
    "\n",
    "        # find the next Sunday\n",
    "        t_b = (t_a - 19) % 7\n",
    "\n",
    "        t_c = (40 - first_dig) % 4\n",
    "        if t_c == 3:\n",
    "            t_c += 1\n",
    "        if t_c > 1:\n",
    "            t_c += 1\n",
    "\n",
    "        temp = y % 100\n",
    "        t_d = (temp + temp // 4) % 7\n",
    "\n",
    "        t_e = ((20 - t_b - t_c - t_d) % 7) + 1\n",
    "        d = t_a + t_e\n",
    "\n",
    "        if d > 31:\n",
    "            d -= 31\n",
    "            m = 4\n",
    "        else:\n",
    "            m = 3\n",
    "\n",
    "        easter = date(y, m, d)\n",
    "        goodfriday = easter - timedelta(2)\n",
    "        pentecost = easter + timedelta(49)\n",
    "\n",
    "        movingholidays[\"Good Friday\"].append(goodfriday.strftime(\"%d.%m.%Y\"))\n",
    "        movingholidays[\"Pentecost\"].append(pentecost.strftime(\"%d.%m.%Y\"))\n",
    "        movingholidays[\"Easter\"].append(easter.strftime(\"%d.%m.%Y\"))\n",
    "\n",
    "    return movingholidays\n",
    "\n",
    "def getHolidayName(date):\n",
    "\n",
    "    holidays = {\n",
    "        \"01.01\": \"New Year's Day\",\n",
    "        \"24.02\": \"Independence day\",\n",
    "        \"01.05\": \"Spring Holiday\",\n",
    "        \"23.06\": \"Victory Day\",\n",
    "        \"24.06\": \"Midsummer day\",\n",
    "        \"20.08\": \"Restoration of Independence Day\",\n",
    "        \"24.12\": \"Christmas Eve\",\n",
    "        \"25.12\": \"Christmas\",\n",
    "        \"26.12\": \"Christmas 2\"\n",
    "    }\n",
    "\n",
    "    return holidays.get(date)\n",
    "\n",
    "filename = \"data_preparation/cleaned_data_file.csv\"\n",
    "df = pd.read_csv(filename, sep=\",\")\n",
    "dates = [\"01.01\", \"24.02\", \"01.05\", \"23.06\", \"24.06\", \"20.08\", \"24.12\", \"25.12\"]\n",
    "movingholidays = movingHolidays()\n",
    "print(movingholidays)\n",
    "\n",
    "\n"
   ],
   "metadata": {
    "collapsed": false,
    "pycharm": {
     "name": "#%%\n"
    }
   }
  }
 ],
 "metadata": {
  "kernelspec": {
   "display_name": "Python 3",
   "language": "python",
   "name": "python3"
  },
  "language_info": {
   "codemirror_mode": {
    "name": "ipython",
    "version": 2
   },
   "file_extension": ".py",
   "mimetype": "text/x-python",
   "name": "python",
   "nbconvert_exporter": "python",
   "pygments_lexer": "ipython2",
   "version": "2.7.6"
  }
 },
 "nbformat": 4,
 "nbformat_minor": 0
}