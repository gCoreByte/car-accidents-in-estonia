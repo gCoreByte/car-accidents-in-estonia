{
 "cells": [
  {
   "cell_type": "markdown",
   "source": [
    "Separate accidents that have happened on holidays from the dataset and save them into a new dataset with a marking to differentiate different holidays."
   ],
   "metadata": {
    "collapsed": false,
    "pycharm": {
     "name": "#%% md\n"
    }
   }
  },
  {
   "cell_type": "code",
   "execution_count": null,
   "metadata": {
    "collapsed": true,
    "pycharm": {
     "name": "#%%\n"
    }
   },
   "outputs": [],
   "source": [
    "import pandas as pd\n",
    "\n",
    "def getHolidayName(date):\n",
    "    holidays = {\n",
    "        \"01.01\": \"New Year's Day\",\n",
    "        \"24.02\": \"Independence day\",\n",
    "        \"01.05\": \"Spring Holiday\",\n",
    "        \"23.06\": \"Victory Day\",\n",
    "        \"24.06\": \"Midsummer day\",\n",
    "        \"20.08\": \"Restoration of Independence Day\",\n",
    "        \"24.12\": \"Christmas Eve\",\n",
    "        \"25.12\": \"Christmas\",\n",
    "        \"31.12\": \"New Year's Eve\"\n",
    "    }\n",
    "\n",
    "    return holidays.get(date)\n",
    "\n",
    "filename = \"Liiklusõnnetused_2011_2021_korrastatud.csv\"\n",
    "\n",
    "dates = [\"01.01\", \"24.02\", \"01.05\", \"23.06\", \"24.06\", \"20.08\", \"24.12\", \"25.12\", \"31.12\"]\n",
    "\n",
    "df = pd.read_csv(filename)\n",
    "\n",
    "column = \"date\"\n",
    "\n",
    "date_df = []\n",
    "\n",
    "for i in range(len(dates)):\n",
    "    rows = df[df[column] == dates[i]]\n",
    "    df = df[df[column] != dates[i]]\n",
    "    date_df.append(rows)\n"
   ]
  },
  {
   "cell_type": "code",
   "execution_count": 12,
   "outputs": [
    {
     "ename": "TypeError",
     "evalue": "object of type 'int' has no len()",
     "output_type": "error",
     "traceback": [
      "\u001B[1;31m---------------------------------------------------------------------------\u001B[0m",
      "\u001B[1;31mTypeError\u001B[0m                                 Traceback (most recent call last)",
      "Input \u001B[1;32mIn [12]\u001B[0m, in \u001B[0;36m<cell line: 6>\u001B[1;34m()\u001B[0m\n\u001B[0;32m      5\u001B[0m count \u001B[38;5;241m=\u001B[39m \u001B[38;5;241m0\u001B[39m\n\u001B[0;32m      6\u001B[0m \u001B[38;5;28;01mfor\u001B[39;00m value \u001B[38;5;129;01min\u001B[39;00m data[\u001B[38;5;124m\"\u001B[39m\u001B[38;5;124mJuhtumi nr\u001B[39m\u001B[38;5;124m\"\u001B[39m]:\n\u001B[1;32m----> 7\u001B[0m     \u001B[38;5;28;01mif\u001B[39;00m \u001B[38;5;28;43mlen\u001B[39;49m\u001B[43m(\u001B[49m\u001B[43mvalue\u001B[49m\u001B[43m)\u001B[49m \u001B[38;5;241m==\u001B[39m \u001B[38;5;241m13\u001B[39m:\n\u001B[0;32m      8\u001B[0m         count \u001B[38;5;241m+\u001B[39m\u001B[38;5;241m=\u001B[39m \u001B[38;5;241m1\u001B[39m\n\u001B[0;32m     10\u001B[0m \u001B[38;5;28mprint\u001B[39m(count)\n",
      "\u001B[1;31mTypeError\u001B[0m: object of type 'int' has no len()"
     ]
    }
   ],
   "source": [],
   "metadata": {
    "collapsed": false,
    "pycharm": {
     "name": "#%%\n"
    }
   }
  }
 ],
 "metadata": {
  "kernelspec": {
   "display_name": "Python 3",
   "language": "python",
   "name": "python3"
  },
  "language_info": {
   "codemirror_mode": {
    "name": "ipython",
    "version": 2
   },
   "file_extension": ".py",
   "mimetype": "text/x-python",
   "name": "python",
   "nbconvert_exporter": "python",
   "pygments_lexer": "ipython2",
   "version": "2.7.6"
  }
 },
 "nbformat": 4,
 "nbformat_minor": 0
}