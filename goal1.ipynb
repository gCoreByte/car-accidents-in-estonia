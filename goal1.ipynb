{
 "cells": [
  {
   "cell_type": "markdown",
   "source": [
    "Separate accidents that have happened on holidays from the dataset and save them into a new dataset with a marking to differentiate different holidays."
   ],
   "metadata": {
    "collapsed": false,
    "pycharm": {
     "name": "#%% md\n"
    }
   }
  },
  {
   "cell_type": "code",
   "execution_count": null,
   "metadata": {
    "collapsed": true,
    "pycharm": {
     "name": "#%%\n"
    }
   },
   "outputs": [],
   "source": [
    "import pandas as pd\n",
    "\n",
    "def getHolidayName(date):\n",
    "    holidays = {\n",
    "        \"01.01\": \"New Year's Day\",\n",
    "        \"24.02\": \"Independence day\",\n",
    "        \"01.05\": \"Spring Holiday\",\n",
    "        \"23.06\": \"Victory Day\",\n",
    "        \"24.06\": \"Midsummer day\",\n",
    "        \"20.08\": \"Restoration of Independence Day\",\n",
    "        \"24.12\": \"Christmas Eve\",\n",
    "        \"25.12\": \"Christmas\",\n",
    "        \"26.12\": \"Christmas 2\"\n",
    "    }\n",
    "\n",
    "    return holidays.get(date)\n",
    "\n",
    "filename = \"Liiklusõnnetused_2011_2021_korrastatud.csv\"\n",
    "\n",
    "dates = [\"01.01\", \"24.02\", \"01.05\", \"23.06\", \"24.06\", \"20.08\", \"24.12\", \"25.12\"]\n",
    "\n",
    "df = pd.read_csv(filename, sep=\";\")\n",
    "\n",
    "column = \"date\"\n",
    "\n",
    "date_df = []\n",
    "\n",
    "for i in range(len(dates)):\n",
    "    rows = df[df[column] == dates[i]]\n",
    "    df = df[df[column] != dates[i]]\n",
    "    date_df.append(rows)\n"
   ]
  },
  {
   "cell_type": "code",
   "execution_count": 4,
   "outputs": [],
   "source": [
    "import pandas as pd\n",
    "filename = \"data_preparation/cleaned_data_file.csv\"\n",
    "df = pd.read_csv(filename, sep=\",\")"
   ],
   "metadata": {
    "collapsed": false,
    "pycharm": {
     "name": "#%%\n"
    }
   }
  },
  {
   "cell_type": "code",
   "execution_count": 19,
   "outputs": [
    {
     "name": "stdout",
     "output_type": "stream",
     "text": [
      "{'Good Friday': ['22.04.11', '06.04.12', '29.03.13', '18.04.14', '03.04.15', '25.03.16', '14.04.17', '30.03.18', '19.04.19', '10.04.20', '02.04.21'], 'Easter': ['24.04.11', '08.04.12', '31.03.13', '20.04.14', '05.04.15', '27.03.16', '16.04.17', '01.04.18', '21.04.19', '12.04.20', '04.04.21'], 'Pentecost': ['12.06.11', '27.05.12', '19.05.13', '08.06.14', '24.05.15', '15.05.16', '04.06.17', '20.05.18', '09.06.19', '31.05.20', '23.05.21']}\n"
     ]
    }
   ],
   "source": [
    "from datetime import date, timedelta\n",
    "\n",
    "def movingHolidays():\n",
    "    movingholidays = {\"Good Friday\": [], \"Easter\": [], \"Pentecost\": []}\n",
    "\n",
    "    for y in range(2011, 2022):\n",
    "        #Following code is from https://www.assa.org.au/edm#Calculator\n",
    "        first_dig = y // 100  # first 2 digits of year\n",
    "        remain_19 = y % 19  # remainder of year / 19\n",
    "\n",
    "        # calculate PFM date\n",
    "        temp = (first_dig - 15) // 2 + 202 - 11 * remain_19\n",
    "\n",
    "        if first_dig in [21, 24, 25, 27, 28, 29, 30, 31, 32, 34, 35, 38]:\n",
    "            temp -= 1\n",
    "        elif first_dig in [33, 36, 37, 39, 40]:\n",
    "            temp -= 2\n",
    "        temp %= 30\n",
    "\n",
    "        t_a = temp + 21\n",
    "        if temp == 29:\n",
    "            t_a -= 1\n",
    "        if temp == 28 and remain_19 > 10:\n",
    "            t_a -= 1\n",
    "\n",
    "        # find the next Sunday\n",
    "        t_b = (t_a - 19) % 7\n",
    "\n",
    "        t_c = (40 - first_dig) % 4\n",
    "        if t_c == 3:\n",
    "            t_c += 1\n",
    "        if t_c > 1:\n",
    "            t_c += 1\n",
    "\n",
    "        temp = y % 100\n",
    "        t_d = (temp + temp // 4) % 7\n",
    "\n",
    "        t_e = ((20 - t_b - t_c - t_d) % 7) + 1\n",
    "        d = t_a + t_e\n",
    "\n",
    "        if d > 31:\n",
    "            d -= 31\n",
    "            m = 4\n",
    "        else:\n",
    "            m = 3\n",
    "\n",
    "        easter = date(y, m, d)\n",
    "        goodfriday = easter - timedelta(2)\n",
    "        pentecost = easter + timedelta(49)\n",
    "\n",
    "        movingholidays[\"Good Friday\"].append(goodfriday.strftime(\"%d.%m.%y\"))\n",
    "        movingholidays[\"Pentecost\"].append(pentecost.strftime(\"%d.%m.%y\"))\n",
    "        movingholidays[\"Easter\"].append(easter.strftime(\"%d.%m.%y\"))\n",
    "\n",
    "    return movingholidays\n",
    "\n",
    "print(movingHolidays())"
   ],
   "metadata": {
    "collapsed": false,
    "pycharm": {
     "name": "#%%\n"
    }
   }
  }
 ],
 "metadata": {
  "kernelspec": {
   "display_name": "Python 3",
   "language": "python",
   "name": "python3"
  },
  "language_info": {
   "codemirror_mode": {
    "name": "ipython",
    "version": 2
   },
   "file_extension": ".py",
   "mimetype": "text/x-python",
   "name": "python",
   "nbconvert_exporter": "python",
   "pygments_lexer": "ipython2",
   "version": "2.7.6"
  }
 },
 "nbformat": 4,
 "nbformat_minor": 0
}